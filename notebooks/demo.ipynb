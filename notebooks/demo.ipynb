{
 "cells": [
  {
   "cell_type": "code",
   "execution_count": null,
   "id": "c27ab9ba",
   "metadata": {},
   "outputs": [],
   "source": [
    "import logging\n",
    "\n",
    "npllm_logger = logging.getLogger('npllm')\n",
    "npllm_logger.setLevel(logging.DEBUG)\n",
    "\n",
    "formatter = logging.Formatter('%(name)s - %(levelname)s - %(message)s')\n",
    "\n",
    "debug_file_handler = logging.FileHandler('/tmp/npllm_debug.log', mode='a', encoding='utf-8')\n",
    "debug_file_handler.setLevel(logging.DEBUG)\n",
    "debug_file_handler.setFormatter(formatter)\n",
    "\n",
    "info_file_handler = logging.FileHandler('/tmp/npllm.log', mode='a', encoding='utf-8')\n",
    "info_file_handler.setLevel(logging.INFO)\n",
    "info_file_handler.setFormatter(formatter)\n",
    "\n",
    "npllm_logger.addHandler(debug_file_handler)\n",
    "npllm_logger.addHandler(info_file_handler)\n",
    "npllm_logger.propagate = False"
   ]
  },
  {
   "cell_type": "code",
   "execution_count": null,
   "id": "4b9d97d0",
   "metadata": {},
   "outputs": [],
   "source": [
    "from agents.github_trending_agent import GitHubTrendingAgent\n",
    "\n",
    "agent = GitHubTrendingAgent(cdp_endpoint=\"http://192.168.10.28:19222\")"
   ]
  },
  {
   "cell_type": "code",
   "execution_count": null,
   "id": "c5466757",
   "metadata": {},
   "outputs": [],
   "source": [
    "answer: str = await agent.query(\"这周全球有哪些比较火的 Python 项目, 以 Md 格式输出你的回答\")\n",
    "print(answer)"
   ]
  }
 ],
 "metadata": {
  "kernelspec": {
   "display_name": "Python 3 (ipykernel)",
   "language": "python",
   "name": "python3"
  },
  "language_info": {
   "codemirror_mode": {
    "name": "ipython",
    "version": 3
   },
   "file_extension": ".py",
   "mimetype": "text/x-python",
   "name": "python",
   "nbconvert_exporter": "python",
   "pygments_lexer": "ipython3",
   "version": "3.13.5"
  }
 },
 "nbformat": 4,
 "nbformat_minor": 5
}
