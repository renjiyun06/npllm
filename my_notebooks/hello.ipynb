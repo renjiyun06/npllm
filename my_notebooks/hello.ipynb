{
 "cells": [
  {
   "cell_type": "code",
   "execution_count": 6,
   "id": "9fd19328",
   "metadata": {},
   "outputs": [
    {
     "name": "stdout",
     "output_type": "stream",
     "text": [
      "<frame at 0x72f6f1f16ae0, file '/tmp/ipykernel_1292776/3067633817.py', line 4, code <module>>\n"
     ]
    },
    {
     "ename": "AttributeError",
     "evalue": "module '__main__' has no attribute '__file__'",
     "output_type": "error",
     "traceback": [
      "\u001b[31m---------------------------------------------------------------------------\u001b[39m",
      "\u001b[31mAttributeError\u001b[39m                            Traceback (most recent call last)",
      "\u001b[36mCell\u001b[39m\u001b[36m \u001b[39m\u001b[32mIn[6]\u001b[39m\u001b[32m, line 4\u001b[39m\n\u001b[32m      1\u001b[39m \u001b[38;5;28;01mfrom\u001b[39;00m\u001b[38;5;250m \u001b[39m\u001b[34;01mnpllm\u001b[39;00m\u001b[34;01m.\u001b[39;00m\u001b[34;01mcore\u001b[39;00m\u001b[34;01m.\u001b[39;00m\u001b[34;01mllm\u001b[39;00m\u001b[38;5;250m \u001b[39m\u001b[38;5;28;01mimport\u001b[39;00m LLM\n\u001b[32m      3\u001b[39m llm = LLM()\n\u001b[32m----> \u001b[39m\u001b[32m4\u001b[39m s: \u001b[38;5;28mstr\u001b[39m = \u001b[38;5;28;01mawait\u001b[39;00m llm.generate()\n\u001b[32m      5\u001b[39m \u001b[38;5;28mprint\u001b[39m(s)\n",
      "\u001b[36mFile \u001b[39m\u001b[32m~/npllm/src/npllm/core/llm.py:49\u001b[39m, in \u001b[36mLLM.__getattr__.<locals>.llm_method_handler\u001b[39m\u001b[34m(*args, **kwargs)\u001b[39m\n\u001b[32m     47\u001b[39m call_id = generate_call_id()\n\u001b[32m     48\u001b[39m logger.info(\u001b[33mf\u001b[39m\u001b[33m\"\u001b[39m\u001b[33mLLM call \u001b[39m\u001b[38;5;132;01m{\u001b[39;00mmethod_name\u001b[38;5;132;01m}\u001b[39;00m\u001b[33m with call id \u001b[39m\u001b[38;5;132;01m{\u001b[39;00mcall_id\u001b[38;5;132;01m}\u001b[39;00m\u001b[33m\"\u001b[39m)\n\u001b[32m---> \u001b[39m\u001b[32m49\u001b[39m call_site = \u001b[43mCallSite\u001b[49m\u001b[43m.\u001b[49m\u001b[43mof\u001b[49m\u001b[43m(\u001b[49m\u001b[43mcaller_frame\u001b[49m\u001b[43m(\u001b[49m\u001b[43m)\u001b[49m\u001b[43m,\u001b[49m\u001b[43m \u001b[49m\u001b[43mmethod_name\u001b[49m\u001b[43m,\u001b[49m\u001b[43m \u001b[49m\u001b[43mkwargs\u001b[49m\u001b[43m[\u001b[49m\u001b[33;43m'\u001b[39;49m\u001b[33;43m__is_async__\u001b[39;49m\u001b[33;43m'\u001b[39;49m\u001b[43m]\u001b[49m\u001b[43m)\u001b[49m\n\u001b[32m     51\u001b[39m code_context = \u001b[38;5;28mself\u001b[39m._code_context\n\u001b[32m     52\u001b[39m \u001b[38;5;28;01mif\u001b[39;00m \u001b[38;5;129;01mnot\u001b[39;00m call_site.enclosing_function \u001b[38;5;129;01mand\u001b[39;00m \u001b[38;5;129;01mnot\u001b[39;00m call_site.enclosing_class:\n",
      "\u001b[36mFile \u001b[39m\u001b[32m~/npllm/src/npllm/core/call_site.py:67\u001b[39m, in \u001b[36mCallSite.of\u001b[39m\u001b[34m(cls, caller_frame, method_name, is_async)\u001b[39m\n\u001b[32m     60\u001b[39m \u001b[38;5;129m@classmethod\u001b[39m\n\u001b[32m     61\u001b[39m \u001b[38;5;28;01mdef\u001b[39;00m\u001b[38;5;250m \u001b[39m\u001b[34mof\u001b[39m(\n\u001b[32m     62\u001b[39m     \u001b[38;5;28mcls\u001b[39m, \n\u001b[32m   (...)\u001b[39m\u001b[32m     65\u001b[39m     is_async: \u001b[38;5;28mbool\u001b[39m\n\u001b[32m     66\u001b[39m ) -> \u001b[33m'\u001b[39m\u001b[33mCallSite\u001b[39m\u001b[33m'\u001b[39m:\n\u001b[32m---> \u001b[39m\u001b[32m67\u001b[39m     identifier = \u001b[38;5;28;43mcls\u001b[39;49m\u001b[43m.\u001b[49m\u001b[43mcreate_identifier\u001b[49m\u001b[43m(\u001b[49m\u001b[43mcaller_frame\u001b[49m\u001b[43m,\u001b[49m\u001b[43m \u001b[49m\u001b[43mmethod_name\u001b[49m\u001b[43m)\u001b[49m\n\u001b[32m     68\u001b[39m     \u001b[38;5;28;01mif\u001b[39;00m identifier \u001b[38;5;129;01min\u001b[39;00m \u001b[38;5;28mcls\u001b[39m._call_site_cache:\n\u001b[32m     69\u001b[39m         logger.info(\u001b[33mf\u001b[39m\u001b[33m\"\u001b[39m\u001b[33mGet call site from cache: \u001b[39m\u001b[38;5;132;01m{\u001b[39;00midentifier\u001b[38;5;132;01m}\u001b[39;00m\u001b[33m\"\u001b[39m)\n",
      "\u001b[36mFile \u001b[39m\u001b[32m~/npllm/src/npllm/core/call_site.py:58\u001b[39m, in \u001b[36mCallSite.create_identifier\u001b[39m\u001b[34m(cls, caller_frame, method_name)\u001b[39m\n\u001b[32m     56\u001b[39m \u001b[38;5;28;01massert\u001b[39;00m module_object\n\u001b[32m     57\u001b[39m \u001b[38;5;28mprint\u001b[39m(caller_frame)\n\u001b[32m---> \u001b[39m\u001b[32m58\u001b[39m \u001b[38;5;28;01mreturn\u001b[39;00m CallSiteIdentifier(\u001b[43mmodule_object\u001b[49m\u001b[43m.\u001b[49m\u001b[34;43m__file__\u001b[39;49m, caller_frame.f_lineno, method_name)\n",
      "\u001b[31mAttributeError\u001b[39m: module '__main__' has no attribute '__file__'"
     ]
    }
   ],
   "source": [
    "from npllm.core.llm import LLM\n",
    "\n",
    "llm = LLM()\n",
    "s: str = await llm.generate()\n",
    "print(s)"
   ]
  }
 ],
 "metadata": {
  "kernelspec": {
   "display_name": "Python 3 (ipykernel)",
   "language": "python",
   "name": "python3"
  },
  "language_info": {
   "codemirror_mode": {
    "name": "ipython",
    "version": 3
   },
   "file_extension": ".py",
   "mimetype": "text/x-python",
   "name": "python",
   "nbconvert_exporter": "python",
   "pygments_lexer": "ipython3",
   "version": "3.13.5"
  }
 },
 "nbformat": 4,
 "nbformat_minor": 5
}
