{
 "cells": [
  {
   "cell_type": "code",
   "execution_count": null,
   "id": "5fdcfa01",
   "metadata": {},
   "outputs": [],
   "source": [
    "import logging\n",
    "\n",
    "logging.basicConfig(level=logging.WARNING, format='%(name)s - %(levelname)s - %(message)s')\n",
    "\n",
    "npllm_logger = logging.getLogger('npllm')\n",
    "npllm_logger.setLevel(logging.DEBUG)"
   ]
  },
  {
   "cell_type": "code",
   "execution_count": null,
   "id": "26b987b7",
   "metadata": {},
   "outputs": [],
   "source": [
    "from npllm.core.ai import AI\n",
    "\n",
    "ai = AI()\n",
    "\n",
    "async def f():\n",
    "    # use Zh\n",
    "    s: str = await ai.generate(\"a joke\")\n",
    "    print(s) \n",
    "\n",
    "await f()"
   ]
  }
 ],
 "metadata": {
  "kernelspec": {
   "display_name": "Python 3 (ipykernel)",
   "language": "python",
   "name": "python3"
  },
  "language_info": {
   "codemirror_mode": {
    "name": "ipython",
    "version": 3
   },
   "file_extension": ".py",
   "mimetype": "text/x-python",
   "name": "python",
   "nbconvert_exporter": "python",
   "pygments_lexer": "ipython3",
   "version": "3.13.5"
  }
 },
 "nbformat": 4,
 "nbformat_minor": 5
}
