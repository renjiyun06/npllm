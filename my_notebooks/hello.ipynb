{
 "cells": [
  {
   "cell_type": "code",
   "execution_count": null,
   "id": "5cde8831",
   "metadata": {},
   "outputs": [],
   "source": [
    "import logging\n",
    "\n",
    "npllm_logger = logging.getLogger('npllm')\n",
    "npllm_logger.setLevel(logging.DEBUG)\n",
    "\n",
    "file_handler = logging.FileHandler('/tmp/npllm.log', mode='a', encoding='utf-8')\n",
    "file_handler.setLevel(logging.DEBUG)\n",
    "\n",
    "formatter = logging.Formatter('%(name)s - %(levelname)s - %(message)s')\n",
    "file_handler.setFormatter(formatter)\n",
    "\n",
    "npllm_logger.addHandler(file_handler)\n",
    "npllm_logger.propagate = False"
   ]
  },
  {
   "cell_type": "code",
   "execution_count": null,
   "id": "26b987b7",
   "metadata": {},
   "outputs": [],
   "source": [
    "from npllm.core.ai import AI\n",
    "\n",
    "ai = AI()\n",
    "# Be concise, reply with one sentence.\n",
    "s: str = await ai.generate('Where does \"hello world\" come from?')\n",
    "print(s)"
   ]
  },
  {
   "cell_type": "code",
   "execution_count": 37,
   "id": "b1016814",
   "metadata": {},
   "outputs": [
    {
     "name": "stdout",
     "output_type": "stream",
     "text": [
      "Demo(x='some value')\n"
     ]
    }
   ],
   "source": [
    "from dataclasses import dataclass\n",
    "\n",
    "@dataclass\n",
    "class Demo:\n",
    "    x: int | str\n",
    "\n",
    "demo: Demo = await ai.generate()\n",
    "print(demo)"
   ]
  }
 ],
 "metadata": {
  "kernelspec": {
   "display_name": "Python 3 (ipykernel)",
   "language": "python",
   "name": "python3"
  },
  "language_info": {
   "codemirror_mode": {
    "name": "ipython",
    "version": 3
   },
   "file_extension": ".py",
   "mimetype": "text/x-python",
   "name": "python",
   "nbconvert_exporter": "python",
   "pygments_lexer": "ipython3",
   "version": "3.13.5"
  }
 },
 "nbformat": 4,
 "nbformat_minor": 5
}
