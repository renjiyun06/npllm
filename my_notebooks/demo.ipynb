{
 "cells": [
  {
   "cell_type": "code",
   "execution_count": 1,
   "id": "6a17bf95",
   "metadata": {},
   "outputs": [
    {
     "ename": "TypeError",
     "evalue": "module, class, method, function, traceback, frame, or code object was expected, got NoneType",
     "output_type": "error",
     "traceback": [
      "\u001b[31m---------------------------------------------------------------------------\u001b[39m",
      "\u001b[31mTypeError\u001b[39m                                 Traceback (most recent call last)",
      "\u001b[36mCell\u001b[39m\u001b[36m \u001b[39m\u001b[32mIn[1]\u001b[39m\u001b[32m, line 4\u001b[39m\n\u001b[32m      1\u001b[39m \u001b[38;5;28;01mfrom\u001b[39;00m\u001b[38;5;250m \u001b[39m\u001b[34;01mnpllm\u001b[39;00m\u001b[34;01m.\u001b[39;00m\u001b[34;01mcore\u001b[39;00m\u001b[34;01m.\u001b[39;00m\u001b[34;01mai\u001b[39;00m\u001b[38;5;250m \u001b[39m\u001b[38;5;28;01mimport\u001b[39;00m AI\n\u001b[32m      3\u001b[39m ai = AI()\n\u001b[32m----> \u001b[39m\u001b[32m4\u001b[39m s: \u001b[38;5;28mstr\u001b[39m = \u001b[38;5;28;01mawait\u001b[39;00m ai.generate()\n\u001b[32m      5\u001b[39m \u001b[38;5;28mprint\u001b[39m(s)\n",
      "\u001b[36mFile \u001b[39m\u001b[32m~/npllm/src/npllm/core/ai.py:31\u001b[39m, in \u001b[36mAI.__getattr__.<locals>.ai_method_handler\u001b[39m\u001b[34m(*args, **kwargs)\u001b[39m\n\u001b[32m     30\u001b[39m \u001b[38;5;28;01masync\u001b[39;00m \u001b[38;5;28;01mdef\u001b[39;00m\u001b[38;5;250m \u001b[39m\u001b[34mai_method_handler\u001b[39m(*args, **kwargs) -> Any:\n\u001b[32m---> \u001b[39m\u001b[32m31\u001b[39m     call_site = \u001b[43mCallSite\u001b[49m\u001b[43m.\u001b[49m\u001b[43mof\u001b[49m\u001b[43m(\u001b[49m\u001b[43mcaller_frame\u001b[49m\u001b[43m(\u001b[49m\u001b[43m)\u001b[49m\u001b[43m,\u001b[49m\u001b[43m \u001b[49m\u001b[43mmethod_name\u001b[49m\u001b[43m,\u001b[49m\u001b[43m \u001b[49m\u001b[43mkwargs\u001b[49m\u001b[43m[\u001b[49m\u001b[33;43m'\u001b[39;49m\u001b[33;43m__is_async__\u001b[39;49m\u001b[33;43m'\u001b[39;49m\u001b[43m]\u001b[49m\u001b[43m)\u001b[49m\n\u001b[32m     32\u001b[39m     \u001b[38;5;28;01mreturn\u001b[39;00m \u001b[38;5;28;01mawait\u001b[39;00m \u001b[38;5;28mself\u001b[39m._call_site_executor.execute(call_site, args, kwargs)\n",
      "\u001b[36mFile \u001b[39m\u001b[32m~/npllm/src/npllm/core/call_site.py:76\u001b[39m, in \u001b[36mCallSite.of\u001b[39m\u001b[34m(cls, caller_frame, method_name, is_async)\u001b[39m\n\u001b[32m     74\u001b[39m absolute_line_number = caller_frame.f_lineno\n\u001b[32m     75\u001b[39m \u001b[38;5;28;01mif\u001b[39;00m caller_frame.f_code.co_name == \u001b[33m\"\u001b[39m\u001b[33m<module>\u001b[39m\u001b[33m\"\u001b[39m:\n\u001b[32m---> \u001b[39m\u001b[32m76\u001b[39m     enclosing_source = remove_indentation(\u001b[43minspect\u001b[49m\u001b[43m.\u001b[49m\u001b[43mgetsource\u001b[49m\u001b[43m(\u001b[49m\u001b[43minspect\u001b[49m\u001b[43m.\u001b[49m\u001b[43mgetmodule\u001b[49m\u001b[43m(\u001b[49m\u001b[43mcaller_frame\u001b[49m\u001b[43m)\u001b[49m\u001b[43m)\u001b[49m)\n\u001b[32m     77\u001b[39m     relative_line_number = caller_frame.f_lineno\n\u001b[32m     78\u001b[39m \u001b[38;5;28;01melse\u001b[39;00m:\n",
      "\u001b[36mFile \u001b[39m\u001b[32m~/.local/share/uv/python/cpython-3.13.5-linux-x86_64-gnu/lib/python3.13/inspect.py:1258\u001b[39m, in \u001b[36mgetsource\u001b[39m\u001b[34m(object)\u001b[39m\n\u001b[32m   1252\u001b[39m \u001b[38;5;28;01mdef\u001b[39;00m\u001b[38;5;250m \u001b[39m\u001b[34mgetsource\u001b[39m(\u001b[38;5;28mobject\u001b[39m):\n\u001b[32m   1253\u001b[39m \u001b[38;5;250m    \u001b[39m\u001b[33;03m\"\"\"Return the text of the source code for an object.\u001b[39;00m\n\u001b[32m   1254\u001b[39m \n\u001b[32m   1255\u001b[39m \u001b[33;03m    The argument may be a module, class, method, function, traceback, frame,\u001b[39;00m\n\u001b[32m   1256\u001b[39m \u001b[33;03m    or code object.  The source code is returned as a single string.  An\u001b[39;00m\n\u001b[32m   1257\u001b[39m \u001b[33;03m    OSError is raised if the source code cannot be retrieved.\"\"\"\u001b[39;00m\n\u001b[32m-> \u001b[39m\u001b[32m1258\u001b[39m     lines, lnum = \u001b[43mgetsourcelines\u001b[49m\u001b[43m(\u001b[49m\u001b[38;5;28;43mobject\u001b[39;49m\u001b[43m)\u001b[49m\n\u001b[32m   1259\u001b[39m     \u001b[38;5;28;01mreturn\u001b[39;00m \u001b[33m'\u001b[39m\u001b[33m'\u001b[39m.join(lines)\n",
      "\u001b[36mFile \u001b[39m\u001b[32m~/.local/share/uv/python/cpython-3.13.5-linux-x86_64-gnu/lib/python3.13/inspect.py:1240\u001b[39m, in \u001b[36mgetsourcelines\u001b[39m\u001b[34m(object)\u001b[39m\n\u001b[32m   1232\u001b[39m \u001b[38;5;250m\u001b[39m\u001b[33;03m\"\"\"Return a list of source lines and starting line number for an object.\u001b[39;00m\n\u001b[32m   1233\u001b[39m \n\u001b[32m   1234\u001b[39m \u001b[33;03mThe argument may be a module, class, method, function, traceback, frame,\u001b[39;00m\n\u001b[32m   (...)\u001b[39m\u001b[32m   1237\u001b[39m \u001b[33;03moriginal source file the first line of code was found.  An OSError is\u001b[39;00m\n\u001b[32m   1238\u001b[39m \u001b[33;03mraised if the source code cannot be retrieved.\"\"\"\u001b[39;00m\n\u001b[32m   1239\u001b[39m \u001b[38;5;28mobject\u001b[39m = unwrap(\u001b[38;5;28mobject\u001b[39m)\n\u001b[32m-> \u001b[39m\u001b[32m1240\u001b[39m lines, lnum = \u001b[43mfindsource\u001b[49m\u001b[43m(\u001b[49m\u001b[38;5;28;43mobject\u001b[39;49m\u001b[43m)\u001b[49m\n\u001b[32m   1242\u001b[39m \u001b[38;5;28;01mif\u001b[39;00m istraceback(\u001b[38;5;28mobject\u001b[39m):\n\u001b[32m   1243\u001b[39m     \u001b[38;5;28mobject\u001b[39m = \u001b[38;5;28mobject\u001b[39m.tb_frame\n",
      "\u001b[36mFile \u001b[39m\u001b[32m~/.local/share/uv/python/cpython-3.13.5-linux-x86_64-gnu/lib/python3.13/inspect.py:1060\u001b[39m, in \u001b[36mfindsource\u001b[39m\u001b[34m(object)\u001b[39m\n\u001b[32m   1052\u001b[39m \u001b[38;5;28;01mdef\u001b[39;00m\u001b[38;5;250m \u001b[39m\u001b[34mfindsource\u001b[39m(\u001b[38;5;28mobject\u001b[39m):\n\u001b[32m   1053\u001b[39m \u001b[38;5;250m    \u001b[39m\u001b[33;03m\"\"\"Return the entire source file and starting line number for an object.\u001b[39;00m\n\u001b[32m   1054\u001b[39m \n\u001b[32m   1055\u001b[39m \u001b[33;03m    The argument may be a module, class, method, function, traceback, frame,\u001b[39;00m\n\u001b[32m   1056\u001b[39m \u001b[33;03m    or code object.  The source code is returned as a list of all the lines\u001b[39;00m\n\u001b[32m   1057\u001b[39m \u001b[33;03m    in the file and the line number indexes a line in that list.  An OSError\u001b[39;00m\n\u001b[32m   1058\u001b[39m \u001b[33;03m    is raised if the source code cannot be retrieved.\"\"\"\u001b[39;00m\n\u001b[32m-> \u001b[39m\u001b[32m1060\u001b[39m     file = \u001b[43mgetsourcefile\u001b[49m\u001b[43m(\u001b[49m\u001b[38;5;28;43mobject\u001b[39;49m\u001b[43m)\u001b[49m\n\u001b[32m   1061\u001b[39m     \u001b[38;5;28;01mif\u001b[39;00m file:\n\u001b[32m   1062\u001b[39m         \u001b[38;5;66;03m# Invalidate cache if needed.\u001b[39;00m\n\u001b[32m   1063\u001b[39m         linecache.checkcache(file)\n",
      "\u001b[36mFile \u001b[39m\u001b[32m~/.local/share/uv/python/cpython-3.13.5-linux-x86_64-gnu/lib/python3.13/inspect.py:963\u001b[39m, in \u001b[36mgetsourcefile\u001b[39m\u001b[34m(object)\u001b[39m\n\u001b[32m    959\u001b[39m \u001b[38;5;28;01mdef\u001b[39;00m\u001b[38;5;250m \u001b[39m\u001b[34mgetsourcefile\u001b[39m(\u001b[38;5;28mobject\u001b[39m):\n\u001b[32m    960\u001b[39m \u001b[38;5;250m    \u001b[39m\u001b[33;03m\"\"\"Return the filename that can be used to locate an object's source.\u001b[39;00m\n\u001b[32m    961\u001b[39m \u001b[33;03m    Return None if no way can be identified to get the source.\u001b[39;00m\n\u001b[32m    962\u001b[39m \u001b[33;03m    \"\"\"\u001b[39;00m\n\u001b[32m--> \u001b[39m\u001b[32m963\u001b[39m     filename = \u001b[43mgetfile\u001b[49m\u001b[43m(\u001b[49m\u001b[38;5;28;43mobject\u001b[39;49m\u001b[43m)\u001b[49m\n\u001b[32m    964\u001b[39m     all_bytecode_suffixes = importlib.machinery.DEBUG_BYTECODE_SUFFIXES[:]\n\u001b[32m    965\u001b[39m     all_bytecode_suffixes += importlib.machinery.OPTIMIZED_BYTECODE_SUFFIXES[:]\n",
      "\u001b[36mFile \u001b[39m\u001b[32m~/.local/share/uv/python/cpython-3.13.5-linux-x86_64-gnu/lib/python3.13/inspect.py:943\u001b[39m, in \u001b[36mgetfile\u001b[39m\u001b[34m(object)\u001b[39m\n\u001b[32m    941\u001b[39m \u001b[38;5;28;01mif\u001b[39;00m iscode(\u001b[38;5;28mobject\u001b[39m):\n\u001b[32m    942\u001b[39m     \u001b[38;5;28;01mreturn\u001b[39;00m \u001b[38;5;28mobject\u001b[39m.co_filename\n\u001b[32m--> \u001b[39m\u001b[32m943\u001b[39m \u001b[38;5;28;01mraise\u001b[39;00m \u001b[38;5;167;01mTypeError\u001b[39;00m(\u001b[33m'\u001b[39m\u001b[33mmodule, class, method, function, traceback, frame, or \u001b[39m\u001b[33m'\u001b[39m\n\u001b[32m    944\u001b[39m                 \u001b[33m'\u001b[39m\u001b[33mcode object was expected, got \u001b[39m\u001b[38;5;132;01m{}\u001b[39;00m\u001b[33m'\u001b[39m.format(\n\u001b[32m    945\u001b[39m                 \u001b[38;5;28mtype\u001b[39m(\u001b[38;5;28mobject\u001b[39m).\u001b[34m__name__\u001b[39m))\n",
      "\u001b[31mTypeError\u001b[39m: module, class, method, function, traceback, frame, or code object was expected, got NoneType"
     ]
    }
   ],
   "source": [
    "from npllm.core.ai import AI\n",
    "\n",
    "ai = AI()\n",
    "s: str = await ai.generate()\n",
    "print(s)"
   ]
  },
  {
   "cell_type": "code",
   "execution_count": 6,
   "id": "4cfc3a12",
   "metadata": {},
   "outputs": [],
   "source": [
    "a = 1"
   ]
  },
  {
   "cell_type": "code",
   "execution_count": 8,
   "id": "2f3ac7ae",
   "metadata": {},
   "outputs": [
    {
     "ename": "AttributeError",
     "evalue": "'NoneType' object has no attribute 'a'",
     "output_type": "error",
     "traceback": [
      "\u001b[31m---------------------------------------------------------------------------\u001b[39m",
      "\u001b[31mAttributeError\u001b[39m                            Traceback (most recent call last)",
      "\u001b[36mCell\u001b[39m\u001b[36m \u001b[39m\u001b[32mIn[8]\u001b[39m\u001b[32m, line 7\u001b[39m\n\u001b[32m      4\u001b[39m current_frame = inspect.currentframe()\n\u001b[32m      5\u001b[39m module = inspect.getmodule(current_frame)\n\u001b[32m----> \u001b[39m\u001b[32m7\u001b[39m \u001b[38;5;28mprint\u001b[39m(\u001b[38;5;28;43mgetattr\u001b[39;49m\u001b[43m(\u001b[49m\u001b[43mmodule\u001b[49m\u001b[43m,\u001b[49m\u001b[43m \u001b[49m\u001b[33;43m\"\u001b[39;49m\u001b[33;43ma\u001b[39;49m\u001b[33;43m\"\u001b[39;49m\u001b[43m)\u001b[49m)\n",
      "\u001b[31mAttributeError\u001b[39m: 'NoneType' object has no attribute 'a'"
     ]
    }
   ],
   "source": [
    "import inspect\n",
    "\n",
    "\n",
    "current_frame = inspect.currentframe()\n",
    "module = inspect.getmodule(current_frame)\n",
    "\n",
    "print(getattr(module, \"a\"))"
   ]
  }
 ],
 "metadata": {
  "kernelspec": {
   "display_name": "Python 3 (ipykernel)",
   "language": "python",
   "name": "python3"
  },
  "language_info": {
   "codemirror_mode": {
    "name": "ipython",
    "version": 3
   },
   "file_extension": ".py",
   "mimetype": "text/x-python",
   "name": "python",
   "nbconvert_exporter": "python",
   "pygments_lexer": "ipython3",
   "version": "3.13.5"
  }
 },
 "nbformat": 4,
 "nbformat_minor": 5
}
